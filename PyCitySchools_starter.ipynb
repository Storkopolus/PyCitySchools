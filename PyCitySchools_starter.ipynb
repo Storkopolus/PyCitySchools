{
 "cells": [
  {
   "cell_type": "code",
   "execution_count": 31,
   "metadata": {},
   "outputs": [
    {
     "output_type": "execute_result",
     "data": {
      "text/plain": "   Student ID       student_name gender grade        school_name  \\\n0           0       Paul Bradley      M   9th  Huang High School   \n1           1       Victor Smith      M  12th  Huang High School   \n2           2    Kevin Rodriguez      M  12th  Huang High School   \n3           3  Dr. Richard Scott      M  12th  Huang High School   \n4           4         Bonnie Ray      F   9th  Huang High School   \n\n   reading_score  math_score  School ID      type  size   budget  \n0             66          79          0  District  2917  1910635  \n1             94          61          0  District  2917  1910635  \n2             90          60          0  District  2917  1910635  \n3             67          58          0  District  2917  1910635  \n4             97          84          0  District  2917  1910635  ",
      "text/html": "<div>\n<style scoped>\n    .dataframe tbody tr th:only-of-type {\n        vertical-align: middle;\n    }\n\n    .dataframe tbody tr th {\n        vertical-align: top;\n    }\n\n    .dataframe thead th {\n        text-align: right;\n    }\n</style>\n<table border=\"1\" class=\"dataframe\">\n  <thead>\n    <tr style=\"text-align: right;\">\n      <th></th>\n      <th>Student ID</th>\n      <th>student_name</th>\n      <th>gender</th>\n      <th>grade</th>\n      <th>school_name</th>\n      <th>reading_score</th>\n      <th>math_score</th>\n      <th>School ID</th>\n      <th>type</th>\n      <th>size</th>\n      <th>budget</th>\n    </tr>\n  </thead>\n  <tbody>\n    <tr>\n      <th>0</th>\n      <td>0</td>\n      <td>Paul Bradley</td>\n      <td>M</td>\n      <td>9th</td>\n      <td>Huang High School</td>\n      <td>66</td>\n      <td>79</td>\n      <td>0</td>\n      <td>District</td>\n      <td>2917</td>\n      <td>1910635</td>\n    </tr>\n    <tr>\n      <th>1</th>\n      <td>1</td>\n      <td>Victor Smith</td>\n      <td>M</td>\n      <td>12th</td>\n      <td>Huang High School</td>\n      <td>94</td>\n      <td>61</td>\n      <td>0</td>\n      <td>District</td>\n      <td>2917</td>\n      <td>1910635</td>\n    </tr>\n    <tr>\n      <th>2</th>\n      <td>2</td>\n      <td>Kevin Rodriguez</td>\n      <td>M</td>\n      <td>12th</td>\n      <td>Huang High School</td>\n      <td>90</td>\n      <td>60</td>\n      <td>0</td>\n      <td>District</td>\n      <td>2917</td>\n      <td>1910635</td>\n    </tr>\n    <tr>\n      <th>3</th>\n      <td>3</td>\n      <td>Dr. Richard Scott</td>\n      <td>M</td>\n      <td>12th</td>\n      <td>Huang High School</td>\n      <td>67</td>\n      <td>58</td>\n      <td>0</td>\n      <td>District</td>\n      <td>2917</td>\n      <td>1910635</td>\n    </tr>\n    <tr>\n      <th>4</th>\n      <td>4</td>\n      <td>Bonnie Ray</td>\n      <td>F</td>\n      <td>9th</td>\n      <td>Huang High School</td>\n      <td>97</td>\n      <td>84</td>\n      <td>0</td>\n      <td>District</td>\n      <td>2917</td>\n      <td>1910635</td>\n    </tr>\n  </tbody>\n</table>\n</div>"
     },
     "metadata": {},
     "execution_count": 31
    }
   ],
   "source": [
    "# Dependencies and Setup\n",
    "import pandas as pd\n",
    "\n",
    "# File to Load (Remember to Change These)\n",
    "school_data_to_load = \"Resources/schools_complete.csv\"\n",
    "student_data_to_load = \"Resources/students_complete.csv\"\n",
    "\n",
    "# Read School and Student Data File and store into Pandas DataFrames\n",
    "school_df = pd.read_csv(school_data_to_load)\n",
    "student_df = pd.read_csv(student_data_to_load)\n",
    "\n",
    "# Combine the data into a single dataset.  \n",
    "merged_df = pd.merge(student_df, school_df, how=\"left\", on=[\"school_name\", \"school_name\"])\n",
    "\n",
    "merged_df.head()"
   ]
  },
  {
   "cell_type": "code",
   "execution_count": 32,
   "metadata": {
    "tags": []
   },
   "outputs": [
    {
     "output_type": "execute_result",
     "data": {
      "text/plain": "   Total Schools  Total Students  Total Budget  Average Math Score  \\\n0             15           39170    24649428.0               78.99   \n\n   Average Reading Score  Percent Passed Math  Percent Passed Reading  \\\n0                  81.88                74.98                   85.81   \n\n   Overall Passing Rate  \n0                 65.17  ",
      "text/html": "<div>\n<style scoped>\n    .dataframe tbody tr th:only-of-type {\n        vertical-align: middle;\n    }\n\n    .dataframe tbody tr th {\n        vertical-align: top;\n    }\n\n    .dataframe thead th {\n        text-align: right;\n    }\n</style>\n<table border=\"1\" class=\"dataframe\">\n  <thead>\n    <tr style=\"text-align: right;\">\n      <th></th>\n      <th>Total Schools</th>\n      <th>Total Students</th>\n      <th>Total Budget</th>\n      <th>Average Math Score</th>\n      <th>Average Reading Score</th>\n      <th>Percent Passed Math</th>\n      <th>Percent Passed Reading</th>\n      <th>Overall Passing Rate</th>\n    </tr>\n  </thead>\n  <tbody>\n    <tr>\n      <th>0</th>\n      <td>15</td>\n      <td>39170</td>\n      <td>24649428.0</td>\n      <td>78.99</td>\n      <td>81.88</td>\n      <td>74.98</td>\n      <td>85.81</td>\n      <td>65.17</td>\n    </tr>\n  </tbody>\n</table>\n</div>"
     },
     "metadata": {},
     "execution_count": 32
    }
   ],
   "source": [
    "# Calculate the total number of schools\n",
    "school_count = len(school_df[\"school_name\"].unique())\n",
    "\n",
    "# Calculate the total number of students\n",
    "student_count = len(student_df[\"Student ID\"].unique())\n",
    "\n",
    "# Calculate the total budget\n",
    "total_budget = float(school_df[\"budget\"].sum())\n",
    "\n",
    "# Calculate the average math score \n",
    "average_math = round(float(merged_df[\"math_score\"].mean()), 2)\n",
    "\n",
    "# Calculate the average reading score\n",
    "average_reading = round(float(merged_df[\"reading_score\"].mean()), 2)\n",
    "\n",
    "# Calculate the percentage of students with a passing math score (70 or greater)\n",
    "math_passing = len(merged_df.loc[merged_df[\"math_score\"] >= 70][\"Student ID\"])\n",
    "math_passing_percent = float(round(math_passing / student_count * 100, 2))\n",
    "\n",
    "# Calculate the percentage of students with a passing reading score (70 or greater)\n",
    "reading_passing = len(merged_df.loc[merged_df[\"reading_score\"] >= 70][\"Student ID\"])\n",
    "reading_passing_percent = float(round(reading_passing / student_count * 100, 2))\n",
    "\n",
    "# Calculate the percentage of students who passed math **and** reading (% Overall Passing)\n",
    "overall_passing = merged_df.loc[(merged_df[\"math_score\"] >= 70) & (merged_df[\"reading_score\"] >= 70)][\"Student ID\"].count()\n",
    "overall_passing_percent = float(round(overall_passing / student_count * 100, 2))\n",
    "\n",
    "# Create a dataframe to hold the above results\n",
    "district_summary = pd.DataFrame({\"Total Schools\":school_count, \"Total Students\":student_count,\n",
    "                                \"Total Budget\":total_budget, \"Average Math Score\":average_math,\n",
    "                                \"Average Reading Score\":average_reading, \n",
    "                                \"Percent Passed Math\":math_passing_percent,\n",
    "                                \"Percent Passed Reading\":reading_passing_percent,\n",
    "                                \"Overall Passing Rate\":overall_passing_percent}, index=[0])\n",
    "district_summary\n",
    "# Optional: give the displayed data cleaner formatting\n"
   ]
  },
  {
   "cell_type": "markdown",
   "metadata": {},
   "source": [
    "## School Summary"
   ]
  },
  {
   "cell_type": "code",
   "execution_count": 33,
   "metadata": {
    "tags": []
   },
   "outputs": [
    {
     "output_type": "execute_result",
     "data": {
      "text/plain": "                      School Type  Total Students  Per Student Budget  \\\nBailey High School       District            4976               628.0   \nCabrera High School       Charter            1858               582.0   \nFigueroa High School     District            2949               639.0   \nFord High School         District            2739               644.0   \nGriffin High School       Charter            1468               625.0   \nHernandez High School    District            4635               652.0   \nHolden High School        Charter             427               581.0   \nHuang High School        District            2917               655.0   \nJohnson High School      District            4761               650.0   \nPena High School          Charter             962               609.0   \nRodriguez High School    District            3999               637.0   \nShelton High School       Charter            1761               600.0   \nThomas High School        Charter            1635               638.0   \nWilson High School        Charter            2283               578.0   \nWright High School        Charter            1800               583.0   \n\n                       Total School Budget  Average Math Score  \\\nBailey High School                 3124928           77.048432   \nCabrera High School                1081356           83.061895   \nFigueroa High School               1884411           76.711767   \nFord High School                   1763916           77.102592   \nGriffin High School                 917500           83.351499   \nHernandez High School              3022020           77.289752   \nHolden High School                  248087           83.803279   \nHuang High School                  1910635           76.629414   \nJohnson High School                3094650           77.072464   \nPena High School                    585858           83.839917   \nRodriguez High School              2547363           76.842711   \nShelton High School                1056600           83.359455   \nThomas High School                 1043130           83.418349   \nWilson High School                 1319574           83.274201   \nWright High School                 1049400           83.682222   \n\n                       Average Reading Score  % Passing Math  \\\nBailey High School                 81.033963       66.680064   \nCabrera High School                83.975780       94.133477   \nFigueroa High School               81.158020       65.988471   \nFord High School                   80.746258       68.309602   \nGriffin High School                83.816757       93.392371   \nHernandez High School              80.934412       66.752967   \nHolden High School                 83.814988       92.505855   \nHuang High School                  81.182722       65.683922   \nJohnson High School                80.966394       66.057551   \nPena High School                   84.044699       94.594595   \nRodriguez High School              80.744686       66.366592   \nShelton High School                83.725724       93.867121   \nThomas High School                 83.848930       93.272171   \nWilson High School                 83.989488       93.867718   \nWright High School                 83.955000       93.333333   \n\n                       % Passing Reading  % Passing Overall  \nBailey High School             81.933280          54.642283  \nCabrera High School            97.039828          91.334769  \nFigueroa High School           80.739234          53.204476  \nFord High School               79.299014          54.289887  \nGriffin High School            97.138965          90.599455  \nHernandez High School          80.862999          53.527508  \nHolden High School             96.252927          89.227166  \nHuang High School              81.316421          53.513884  \nJohnson High School            81.222432          53.539172  \nPena High School               95.945946          90.540541  \nRodriguez High School          80.220055          52.988247  \nShelton High School            95.854628          89.892107  \nThomas High School             97.308869          90.948012  \nWilson High School             96.539641          90.582567  \nWright High School             96.611111          90.333333  ",
      "text/html": "<div>\n<style scoped>\n    .dataframe tbody tr th:only-of-type {\n        vertical-align: middle;\n    }\n\n    .dataframe tbody tr th {\n        vertical-align: top;\n    }\n\n    .dataframe thead th {\n        text-align: right;\n    }\n</style>\n<table border=\"1\" class=\"dataframe\">\n  <thead>\n    <tr style=\"text-align: right;\">\n      <th></th>\n      <th>School Type</th>\n      <th>Total Students</th>\n      <th>Per Student Budget</th>\n      <th>Total School Budget</th>\n      <th>Average Math Score</th>\n      <th>Average Reading Score</th>\n      <th>% Passing Math</th>\n      <th>% Passing Reading</th>\n      <th>% Passing Overall</th>\n    </tr>\n  </thead>\n  <tbody>\n    <tr>\n      <th>Bailey High School</th>\n      <td>District</td>\n      <td>4976</td>\n      <td>628.0</td>\n      <td>3124928</td>\n      <td>77.048432</td>\n      <td>81.033963</td>\n      <td>66.680064</td>\n      <td>81.933280</td>\n      <td>54.642283</td>\n    </tr>\n    <tr>\n      <th>Cabrera High School</th>\n      <td>Charter</td>\n      <td>1858</td>\n      <td>582.0</td>\n      <td>1081356</td>\n      <td>83.061895</td>\n      <td>83.975780</td>\n      <td>94.133477</td>\n      <td>97.039828</td>\n      <td>91.334769</td>\n    </tr>\n    <tr>\n      <th>Figueroa High School</th>\n      <td>District</td>\n      <td>2949</td>\n      <td>639.0</td>\n      <td>1884411</td>\n      <td>76.711767</td>\n      <td>81.158020</td>\n      <td>65.988471</td>\n      <td>80.739234</td>\n      <td>53.204476</td>\n    </tr>\n    <tr>\n      <th>Ford High School</th>\n      <td>District</td>\n      <td>2739</td>\n      <td>644.0</td>\n      <td>1763916</td>\n      <td>77.102592</td>\n      <td>80.746258</td>\n      <td>68.309602</td>\n      <td>79.299014</td>\n      <td>54.289887</td>\n    </tr>\n    <tr>\n      <th>Griffin High School</th>\n      <td>Charter</td>\n      <td>1468</td>\n      <td>625.0</td>\n      <td>917500</td>\n      <td>83.351499</td>\n      <td>83.816757</td>\n      <td>93.392371</td>\n      <td>97.138965</td>\n      <td>90.599455</td>\n    </tr>\n    <tr>\n      <th>Hernandez High School</th>\n      <td>District</td>\n      <td>4635</td>\n      <td>652.0</td>\n      <td>3022020</td>\n      <td>77.289752</td>\n      <td>80.934412</td>\n      <td>66.752967</td>\n      <td>80.862999</td>\n      <td>53.527508</td>\n    </tr>\n    <tr>\n      <th>Holden High School</th>\n      <td>Charter</td>\n      <td>427</td>\n      <td>581.0</td>\n      <td>248087</td>\n      <td>83.803279</td>\n      <td>83.814988</td>\n      <td>92.505855</td>\n      <td>96.252927</td>\n      <td>89.227166</td>\n    </tr>\n    <tr>\n      <th>Huang High School</th>\n      <td>District</td>\n      <td>2917</td>\n      <td>655.0</td>\n      <td>1910635</td>\n      <td>76.629414</td>\n      <td>81.182722</td>\n      <td>65.683922</td>\n      <td>81.316421</td>\n      <td>53.513884</td>\n    </tr>\n    <tr>\n      <th>Johnson High School</th>\n      <td>District</td>\n      <td>4761</td>\n      <td>650.0</td>\n      <td>3094650</td>\n      <td>77.072464</td>\n      <td>80.966394</td>\n      <td>66.057551</td>\n      <td>81.222432</td>\n      <td>53.539172</td>\n    </tr>\n    <tr>\n      <th>Pena High School</th>\n      <td>Charter</td>\n      <td>962</td>\n      <td>609.0</td>\n      <td>585858</td>\n      <td>83.839917</td>\n      <td>84.044699</td>\n      <td>94.594595</td>\n      <td>95.945946</td>\n      <td>90.540541</td>\n    </tr>\n    <tr>\n      <th>Rodriguez High School</th>\n      <td>District</td>\n      <td>3999</td>\n      <td>637.0</td>\n      <td>2547363</td>\n      <td>76.842711</td>\n      <td>80.744686</td>\n      <td>66.366592</td>\n      <td>80.220055</td>\n      <td>52.988247</td>\n    </tr>\n    <tr>\n      <th>Shelton High School</th>\n      <td>Charter</td>\n      <td>1761</td>\n      <td>600.0</td>\n      <td>1056600</td>\n      <td>83.359455</td>\n      <td>83.725724</td>\n      <td>93.867121</td>\n      <td>95.854628</td>\n      <td>89.892107</td>\n    </tr>\n    <tr>\n      <th>Thomas High School</th>\n      <td>Charter</td>\n      <td>1635</td>\n      <td>638.0</td>\n      <td>1043130</td>\n      <td>83.418349</td>\n      <td>83.848930</td>\n      <td>93.272171</td>\n      <td>97.308869</td>\n      <td>90.948012</td>\n    </tr>\n    <tr>\n      <th>Wilson High School</th>\n      <td>Charter</td>\n      <td>2283</td>\n      <td>578.0</td>\n      <td>1319574</td>\n      <td>83.274201</td>\n      <td>83.989488</td>\n      <td>93.867718</td>\n      <td>96.539641</td>\n      <td>90.582567</td>\n    </tr>\n    <tr>\n      <th>Wright High School</th>\n      <td>Charter</td>\n      <td>1800</td>\n      <td>583.0</td>\n      <td>1049400</td>\n      <td>83.682222</td>\n      <td>83.955000</td>\n      <td>93.333333</td>\n      <td>96.611111</td>\n      <td>90.333333</td>\n    </tr>\n  </tbody>\n</table>\n</div>"
     },
     "metadata": {},
     "execution_count": 33
    }
   ],
   "source": [
    "#Groups by schools\n",
    "sch_types = school_df.set_index(['school_name'])['type']\n",
    "\n",
    "#Total students by school\n",
    "stu_per_sch = student_df.groupby('school_name')['Student ID'].count()\n",
    "\n",
    "#School budget\n",
    "sch_budget = school_df.set_index('school_name')['budget']\n",
    "\n",
    "#Per student budget\n",
    "stu_budget = sch_budget / stu_per_sch\n",
    "\n",
    "#avg scores by school\n",
    "avg_math = merged_df.groupby('school_name')['math_score'].mean()\n",
    "avg_read = merged_df.groupby('school_name')['reading_score'].mean()\n",
    "\n",
    "# % passing scores\n",
    "pass_math = merged_df[merged_df['math_score'] >= 70].groupby('school_name')['Student ID'].count()/stu_per_sch *100\n",
    "pass_read = merged_df[merged_df['reading_score'] >= 70].groupby('school_name')['Student ID'].count()/stu_per_sch *100\n",
    "overall_pass = merged_df[(merged_df['reading_score'] >= 70) & (merged_df['math_score'] >= 70)].groupby('school_name')['Student ID'].count()/stu_per_sch *100\n",
    "\n",
    "sch_summary = pd.DataFrame({\n",
    "    'School Type': sch_types,\n",
    "    'Total Students': stu_per_sch,\n",
    "    'Per Student Budget': stu_budget,\n",
    "    'Total School Budget': sch_budget,\n",
    "    'Average Math Score': avg_math,\n",
    "    'Average Reading Score': avg_read,\n",
    "    '% Passing Math': pass_math,\n",
    "    '% Passing Reading': pass_read,\n",
    "    '% Passing Overall': overall_pass\n",
    "})\n",
    "\n",
    "sch_summary\n"
   ]
  },
  {
   "cell_type": "markdown",
   "metadata": {},
   "source": [
    "## Top Performing Schools (By % Overall Passing)"
   ]
  },
  {
   "cell_type": "code",
   "execution_count": 34,
   "metadata": {
    "scrolled": true
   },
   "outputs": [
    {
     "output_type": "execute_result",
     "data": {
      "text/plain": "                    School Type  Total Students  Per Student Budget  \\\nCabrera High School     Charter            1858               582.0   \nThomas High School      Charter            1635               638.0   \nGriffin High School     Charter            1468               625.0   \nWilson High School      Charter            2283               578.0   \nPena High School        Charter             962               609.0   \n\n                     Total School Budget  Average Math Score  \\\nCabrera High School              1081356           83.061895   \nThomas High School               1043130           83.418349   \nGriffin High School               917500           83.351499   \nWilson High School               1319574           83.274201   \nPena High School                  585858           83.839917   \n\n                     Average Reading Score  % Passing Math  % Passing Reading  \\\nCabrera High School              83.975780       94.133477          97.039828   \nThomas High School               83.848930       93.272171          97.308869   \nGriffin High School              83.816757       93.392371          97.138965   \nWilson High School               83.989488       93.867718          96.539641   \nPena High School                 84.044699       94.594595          95.945946   \n\n                     % Passing Overall  \nCabrera High School          91.334769  \nThomas High School           90.948012  \nGriffin High School          90.599455  \nWilson High School           90.582567  \nPena High School             90.540541  ",
      "text/html": "<div>\n<style scoped>\n    .dataframe tbody tr th:only-of-type {\n        vertical-align: middle;\n    }\n\n    .dataframe tbody tr th {\n        vertical-align: top;\n    }\n\n    .dataframe thead th {\n        text-align: right;\n    }\n</style>\n<table border=\"1\" class=\"dataframe\">\n  <thead>\n    <tr style=\"text-align: right;\">\n      <th></th>\n      <th>School Type</th>\n      <th>Total Students</th>\n      <th>Per Student Budget</th>\n      <th>Total School Budget</th>\n      <th>Average Math Score</th>\n      <th>Average Reading Score</th>\n      <th>% Passing Math</th>\n      <th>% Passing Reading</th>\n      <th>% Passing Overall</th>\n    </tr>\n  </thead>\n  <tbody>\n    <tr>\n      <th>Cabrera High School</th>\n      <td>Charter</td>\n      <td>1858</td>\n      <td>582.0</td>\n      <td>1081356</td>\n      <td>83.061895</td>\n      <td>83.975780</td>\n      <td>94.133477</td>\n      <td>97.039828</td>\n      <td>91.334769</td>\n    </tr>\n    <tr>\n      <th>Thomas High School</th>\n      <td>Charter</td>\n      <td>1635</td>\n      <td>638.0</td>\n      <td>1043130</td>\n      <td>83.418349</td>\n      <td>83.848930</td>\n      <td>93.272171</td>\n      <td>97.308869</td>\n      <td>90.948012</td>\n    </tr>\n    <tr>\n      <th>Griffin High School</th>\n      <td>Charter</td>\n      <td>1468</td>\n      <td>625.0</td>\n      <td>917500</td>\n      <td>83.351499</td>\n      <td>83.816757</td>\n      <td>93.392371</td>\n      <td>97.138965</td>\n      <td>90.599455</td>\n    </tr>\n    <tr>\n      <th>Wilson High School</th>\n      <td>Charter</td>\n      <td>2283</td>\n      <td>578.0</td>\n      <td>1319574</td>\n      <td>83.274201</td>\n      <td>83.989488</td>\n      <td>93.867718</td>\n      <td>96.539641</td>\n      <td>90.582567</td>\n    </tr>\n    <tr>\n      <th>Pena High School</th>\n      <td>Charter</td>\n      <td>962</td>\n      <td>609.0</td>\n      <td>585858</td>\n      <td>83.839917</td>\n      <td>84.044699</td>\n      <td>94.594595</td>\n      <td>95.945946</td>\n      <td>90.540541</td>\n    </tr>\n  </tbody>\n</table>\n</div>"
     },
     "metadata": {},
     "execution_count": 34
    }
   ],
   "source": [
    "# sort values by passing rate and then only print top 5 \n",
    "top_5 = sch_summary.sort_values(\"% Passing Overall\", ascending = False)\n",
    "top_5.head()"
   ]
  },
  {
   "cell_type": "markdown",
   "metadata": {},
   "source": [
    "## Bottom Performing Schools (By % Overall Passing)"
   ]
  },
  {
   "cell_type": "code",
   "execution_count": 41,
   "metadata": {},
   "outputs": [
    {
     "output_type": "execute_result",
     "data": {
      "text/plain": "                      School Type  Total Students  Per Student Budget  \\\nRodriguez High School    District            3999               637.0   \nFigueroa High School     District            2949               639.0   \nHuang High School        District            2917               655.0   \nHernandez High School    District            4635               652.0   \nJohnson High School      District            4761               650.0   \nFord High School         District            2739               644.0   \nBailey High School       District            4976               628.0   \nHolden High School        Charter             427               581.0   \nShelton High School       Charter            1761               600.0   \nWright High School        Charter            1800               583.0   \nPena High School          Charter             962               609.0   \nWilson High School        Charter            2283               578.0   \nGriffin High School       Charter            1468               625.0   \nThomas High School        Charter            1635               638.0   \nCabrera High School       Charter            1858               582.0   \n\n                       Total School Budget  Average Math Score  \\\nRodriguez High School              2547363           76.842711   \nFigueroa High School               1884411           76.711767   \nHuang High School                  1910635           76.629414   \nHernandez High School              3022020           77.289752   \nJohnson High School                3094650           77.072464   \nFord High School                   1763916           77.102592   \nBailey High School                 3124928           77.048432   \nHolden High School                  248087           83.803279   \nShelton High School                1056600           83.359455   \nWright High School                 1049400           83.682222   \nPena High School                    585858           83.839917   \nWilson High School                 1319574           83.274201   \nGriffin High School                 917500           83.351499   \nThomas High School                 1043130           83.418349   \nCabrera High School                1081356           83.061895   \n\n                       Average Reading Score  % Passing Math  \\\nRodriguez High School              80.744686       66.366592   \nFigueroa High School               81.158020       65.988471   \nHuang High School                  81.182722       65.683922   \nHernandez High School              80.934412       66.752967   \nJohnson High School                80.966394       66.057551   \nFord High School                   80.746258       68.309602   \nBailey High School                 81.033963       66.680064   \nHolden High School                 83.814988       92.505855   \nShelton High School                83.725724       93.867121   \nWright High School                 83.955000       93.333333   \nPena High School                   84.044699       94.594595   \nWilson High School                 83.989488       93.867718   \nGriffin High School                83.816757       93.392371   \nThomas High School                 83.848930       93.272171   \nCabrera High School                83.975780       94.133477   \n\n                       % Passing Reading  % Passing Overall  \nRodriguez High School          80.220055          52.988247  \nFigueroa High School           80.739234          53.204476  \nHuang High School              81.316421          53.513884  \nHernandez High School          80.862999          53.527508  \nJohnson High School            81.222432          53.539172  \nFord High School               79.299014          54.289887  \nBailey High School             81.933280          54.642283  \nHolden High School             96.252927          89.227166  \nShelton High School            95.854628          89.892107  \nWright High School             96.611111          90.333333  \nPena High School               95.945946          90.540541  \nWilson High School             96.539641          90.582567  \nGriffin High School            97.138965          90.599455  \nThomas High School             97.308869          90.948012  \nCabrera High School            97.039828          91.334769  ",
      "text/html": "<div>\n<style scoped>\n    .dataframe tbody tr th:only-of-type {\n        vertical-align: middle;\n    }\n\n    .dataframe tbody tr th {\n        vertical-align: top;\n    }\n\n    .dataframe thead th {\n        text-align: right;\n    }\n</style>\n<table border=\"1\" class=\"dataframe\">\n  <thead>\n    <tr style=\"text-align: right;\">\n      <th></th>\n      <th>School Type</th>\n      <th>Total Students</th>\n      <th>Per Student Budget</th>\n      <th>Total School Budget</th>\n      <th>Average Math Score</th>\n      <th>Average Reading Score</th>\n      <th>% Passing Math</th>\n      <th>% Passing Reading</th>\n      <th>% Passing Overall</th>\n    </tr>\n  </thead>\n  <tbody>\n    <tr>\n      <th>Rodriguez High School</th>\n      <td>District</td>\n      <td>3999</td>\n      <td>637.0</td>\n      <td>2547363</td>\n      <td>76.842711</td>\n      <td>80.744686</td>\n      <td>66.366592</td>\n      <td>80.220055</td>\n      <td>52.988247</td>\n    </tr>\n    <tr>\n      <th>Figueroa High School</th>\n      <td>District</td>\n      <td>2949</td>\n      <td>639.0</td>\n      <td>1884411</td>\n      <td>76.711767</td>\n      <td>81.158020</td>\n      <td>65.988471</td>\n      <td>80.739234</td>\n      <td>53.204476</td>\n    </tr>\n    <tr>\n      <th>Huang High School</th>\n      <td>District</td>\n      <td>2917</td>\n      <td>655.0</td>\n      <td>1910635</td>\n      <td>76.629414</td>\n      <td>81.182722</td>\n      <td>65.683922</td>\n      <td>81.316421</td>\n      <td>53.513884</td>\n    </tr>\n    <tr>\n      <th>Hernandez High School</th>\n      <td>District</td>\n      <td>4635</td>\n      <td>652.0</td>\n      <td>3022020</td>\n      <td>77.289752</td>\n      <td>80.934412</td>\n      <td>66.752967</td>\n      <td>80.862999</td>\n      <td>53.527508</td>\n    </tr>\n    <tr>\n      <th>Johnson High School</th>\n      <td>District</td>\n      <td>4761</td>\n      <td>650.0</td>\n      <td>3094650</td>\n      <td>77.072464</td>\n      <td>80.966394</td>\n      <td>66.057551</td>\n      <td>81.222432</td>\n      <td>53.539172</td>\n    </tr>\n    <tr>\n      <th>Ford High School</th>\n      <td>District</td>\n      <td>2739</td>\n      <td>644.0</td>\n      <td>1763916</td>\n      <td>77.102592</td>\n      <td>80.746258</td>\n      <td>68.309602</td>\n      <td>79.299014</td>\n      <td>54.289887</td>\n    </tr>\n    <tr>\n      <th>Bailey High School</th>\n      <td>District</td>\n      <td>4976</td>\n      <td>628.0</td>\n      <td>3124928</td>\n      <td>77.048432</td>\n      <td>81.033963</td>\n      <td>66.680064</td>\n      <td>81.933280</td>\n      <td>54.642283</td>\n    </tr>\n    <tr>\n      <th>Holden High School</th>\n      <td>Charter</td>\n      <td>427</td>\n      <td>581.0</td>\n      <td>248087</td>\n      <td>83.803279</td>\n      <td>83.814988</td>\n      <td>92.505855</td>\n      <td>96.252927</td>\n      <td>89.227166</td>\n    </tr>\n    <tr>\n      <th>Shelton High School</th>\n      <td>Charter</td>\n      <td>1761</td>\n      <td>600.0</td>\n      <td>1056600</td>\n      <td>83.359455</td>\n      <td>83.725724</td>\n      <td>93.867121</td>\n      <td>95.854628</td>\n      <td>89.892107</td>\n    </tr>\n    <tr>\n      <th>Wright High School</th>\n      <td>Charter</td>\n      <td>1800</td>\n      <td>583.0</td>\n      <td>1049400</td>\n      <td>83.682222</td>\n      <td>83.955000</td>\n      <td>93.333333</td>\n      <td>96.611111</td>\n      <td>90.333333</td>\n    </tr>\n    <tr>\n      <th>Pena High School</th>\n      <td>Charter</td>\n      <td>962</td>\n      <td>609.0</td>\n      <td>585858</td>\n      <td>83.839917</td>\n      <td>84.044699</td>\n      <td>94.594595</td>\n      <td>95.945946</td>\n      <td>90.540541</td>\n    </tr>\n    <tr>\n      <th>Wilson High School</th>\n      <td>Charter</td>\n      <td>2283</td>\n      <td>578.0</td>\n      <td>1319574</td>\n      <td>83.274201</td>\n      <td>83.989488</td>\n      <td>93.867718</td>\n      <td>96.539641</td>\n      <td>90.582567</td>\n    </tr>\n    <tr>\n      <th>Griffin High School</th>\n      <td>Charter</td>\n      <td>1468</td>\n      <td>625.0</td>\n      <td>917500</td>\n      <td>83.351499</td>\n      <td>83.816757</td>\n      <td>93.392371</td>\n      <td>97.138965</td>\n      <td>90.599455</td>\n    </tr>\n    <tr>\n      <th>Thomas High School</th>\n      <td>Charter</td>\n      <td>1635</td>\n      <td>638.0</td>\n      <td>1043130</td>\n      <td>83.418349</td>\n      <td>83.848930</td>\n      <td>93.272171</td>\n      <td>97.308869</td>\n      <td>90.948012</td>\n    </tr>\n    <tr>\n      <th>Cabrera High School</th>\n      <td>Charter</td>\n      <td>1858</td>\n      <td>582.0</td>\n      <td>1081356</td>\n      <td>83.061895</td>\n      <td>83.975780</td>\n      <td>94.133477</td>\n      <td>97.039828</td>\n      <td>91.334769</td>\n    </tr>\n  </tbody>\n</table>\n</div>"
     },
     "metadata": {},
     "execution_count": 41
    }
   ],
   "source": [
    "# sort values by passing rate and then only print top 5 \n",
    "top_5 = sch_summary.sort_values(\"% Passing Overall\", ascending = True)\n",
    "top_5.head(15)"
   ]
  },
  {
   "cell_type": "markdown",
   "metadata": {
    "collapsed": true
   },
   "source": [
    "## Math Scores by Grade"
   ]
  },
  {
   "cell_type": "code",
   "execution_count": 36,
   "metadata": {},
   "outputs": [
    {
     "output_type": "execute_result",
     "data": {
      "text/plain": "                             9th       10th       11th       12th\nSchool                                                           \nBailey High School     77.083676  76.996772  77.515588  76.492218\nCabrera High School    83.094697  83.154506  82.765560  83.277487\nFigueroa High School   76.403037  76.539974  76.884344  77.151369\nFord High School       77.361345  77.672316  76.918058  76.179963\nGriffin High School    82.044010  84.229064  83.842105  83.356164\nHernandez High School  77.438495  77.337408  77.136029  77.186567\nHolden High School     83.787402  83.429825  85.000000  82.855422\nHuang High School      77.027251  75.908735  76.446602  77.225641\nJohnson High School    77.187857  76.691117  77.491653  76.863248\nPena High School       83.625455  83.372000  84.328125  84.121547\nRodriguez High School  76.859966  76.612500  76.395626  77.690748\nShelton High School    83.420755  82.917411  83.383495  83.778976\nThomas High School     83.590022  83.087886  83.498795  83.497041\nWilson High School     83.085578  83.724422  83.195326  83.035794\nWright High School     83.264706  84.010288  83.836782  83.644986",
      "text/html": "<div>\n<style scoped>\n    .dataframe tbody tr th:only-of-type {\n        vertical-align: middle;\n    }\n\n    .dataframe tbody tr th {\n        vertical-align: top;\n    }\n\n    .dataframe thead th {\n        text-align: right;\n    }\n</style>\n<table border=\"1\" class=\"dataframe\">\n  <thead>\n    <tr style=\"text-align: right;\">\n      <th></th>\n      <th>9th</th>\n      <th>10th</th>\n      <th>11th</th>\n      <th>12th</th>\n    </tr>\n    <tr>\n      <th>School</th>\n      <th></th>\n      <th></th>\n      <th></th>\n      <th></th>\n    </tr>\n  </thead>\n  <tbody>\n    <tr>\n      <th>Bailey High School</th>\n      <td>77.083676</td>\n      <td>76.996772</td>\n      <td>77.515588</td>\n      <td>76.492218</td>\n    </tr>\n    <tr>\n      <th>Cabrera High School</th>\n      <td>83.094697</td>\n      <td>83.154506</td>\n      <td>82.765560</td>\n      <td>83.277487</td>\n    </tr>\n    <tr>\n      <th>Figueroa High School</th>\n      <td>76.403037</td>\n      <td>76.539974</td>\n      <td>76.884344</td>\n      <td>77.151369</td>\n    </tr>\n    <tr>\n      <th>Ford High School</th>\n      <td>77.361345</td>\n      <td>77.672316</td>\n      <td>76.918058</td>\n      <td>76.179963</td>\n    </tr>\n    <tr>\n      <th>Griffin High School</th>\n      <td>82.044010</td>\n      <td>84.229064</td>\n      <td>83.842105</td>\n      <td>83.356164</td>\n    </tr>\n    <tr>\n      <th>Hernandez High School</th>\n      <td>77.438495</td>\n      <td>77.337408</td>\n      <td>77.136029</td>\n      <td>77.186567</td>\n    </tr>\n    <tr>\n      <th>Holden High School</th>\n      <td>83.787402</td>\n      <td>83.429825</td>\n      <td>85.000000</td>\n      <td>82.855422</td>\n    </tr>\n    <tr>\n      <th>Huang High School</th>\n      <td>77.027251</td>\n      <td>75.908735</td>\n      <td>76.446602</td>\n      <td>77.225641</td>\n    </tr>\n    <tr>\n      <th>Johnson High School</th>\n      <td>77.187857</td>\n      <td>76.691117</td>\n      <td>77.491653</td>\n      <td>76.863248</td>\n    </tr>\n    <tr>\n      <th>Pena High School</th>\n      <td>83.625455</td>\n      <td>83.372000</td>\n      <td>84.328125</td>\n      <td>84.121547</td>\n    </tr>\n    <tr>\n      <th>Rodriguez High School</th>\n      <td>76.859966</td>\n      <td>76.612500</td>\n      <td>76.395626</td>\n      <td>77.690748</td>\n    </tr>\n    <tr>\n      <th>Shelton High School</th>\n      <td>83.420755</td>\n      <td>82.917411</td>\n      <td>83.383495</td>\n      <td>83.778976</td>\n    </tr>\n    <tr>\n      <th>Thomas High School</th>\n      <td>83.590022</td>\n      <td>83.087886</td>\n      <td>83.498795</td>\n      <td>83.497041</td>\n    </tr>\n    <tr>\n      <th>Wilson High School</th>\n      <td>83.085578</td>\n      <td>83.724422</td>\n      <td>83.195326</td>\n      <td>83.035794</td>\n    </tr>\n    <tr>\n      <th>Wright High School</th>\n      <td>83.264706</td>\n      <td>84.010288</td>\n      <td>83.836782</td>\n      <td>83.644986</td>\n    </tr>\n  </tbody>\n</table>\n</div>"
     },
     "metadata": {},
     "execution_count": 36
    }
   ],
   "source": [
    "#creates grade level average math scores for each school \n",
    "ninth_math = student_df.loc[student_df['grade'] == '9th'].groupby('school_name')[\"math_score\"].mean()\n",
    "tenth_math = student_df.loc[student_df['grade'] == '10th'].groupby('school_name')[\"math_score\"].mean()\n",
    "eleventh_math = student_df.loc[student_df['grade'] == '11th'].groupby('school_name')[\"math_score\"].mean()\n",
    "twelfth_math = student_df.loc[student_df['grade'] == '12th'].groupby('school_name')[\"math_score\"].mean()\n",
    "\n",
    "math_scores = pd.DataFrame({\n",
    "        \"9th\": ninth_math,\n",
    "        \"10th\": tenth_math,\n",
    "        \"11th\": eleventh_math,\n",
    "        \"12th\": twelfth_math})\n",
    "math_scores.index.name = \"School\"\n",
    "\n",
    "math_scores"
   ]
  },
  {
   "cell_type": "markdown",
   "metadata": {},
   "source": [
    "## Reading Score by Grade "
   ]
  },
  {
   "cell_type": "code",
   "execution_count": 37,
   "metadata": {},
   "outputs": [
    {
     "output_type": "execute_result",
     "data": {
      "text/plain": "                             9th       10th       11th       12th\nSchool                                                           \nBailey High School     81.303155  80.907183  80.945643  80.912451\nCabrera High School    83.676136  84.253219  83.788382  84.287958\nFigueroa High School   81.198598  81.408912  80.640339  81.384863\nFord High School       80.632653  81.262712  80.403642  80.662338\nGriffin High School    83.369193  83.706897  84.288089  84.013699\nHernandez High School  80.866860  80.660147  81.396140  80.857143\nHolden High School     83.677165  83.324561  83.815534  84.698795\nHuang High School      81.290284  81.512386  81.417476  80.305983\nJohnson High School    81.260714  80.773431  80.616027  81.227564\nPena High School       83.807273  83.612000  84.335938  84.591160\nRodriguez High School  80.993127  80.629808  80.864811  80.376426\nShelton High School    84.122642  83.441964  84.373786  82.781671\nThomas High School     83.728850  84.254157  83.585542  83.831361\nWilson High School     83.939778  84.021452  83.764608  84.317673\nWright High School     83.833333  83.812757  84.156322  84.073171",
      "text/html": "<div>\n<style scoped>\n    .dataframe tbody tr th:only-of-type {\n        vertical-align: middle;\n    }\n\n    .dataframe tbody tr th {\n        vertical-align: top;\n    }\n\n    .dataframe thead th {\n        text-align: right;\n    }\n</style>\n<table border=\"1\" class=\"dataframe\">\n  <thead>\n    <tr style=\"text-align: right;\">\n      <th></th>\n      <th>9th</th>\n      <th>10th</th>\n      <th>11th</th>\n      <th>12th</th>\n    </tr>\n    <tr>\n      <th>School</th>\n      <th></th>\n      <th></th>\n      <th></th>\n      <th></th>\n    </tr>\n  </thead>\n  <tbody>\n    <tr>\n      <th>Bailey High School</th>\n      <td>81.303155</td>\n      <td>80.907183</td>\n      <td>80.945643</td>\n      <td>80.912451</td>\n    </tr>\n    <tr>\n      <th>Cabrera High School</th>\n      <td>83.676136</td>\n      <td>84.253219</td>\n      <td>83.788382</td>\n      <td>84.287958</td>\n    </tr>\n    <tr>\n      <th>Figueroa High School</th>\n      <td>81.198598</td>\n      <td>81.408912</td>\n      <td>80.640339</td>\n      <td>81.384863</td>\n    </tr>\n    <tr>\n      <th>Ford High School</th>\n      <td>80.632653</td>\n      <td>81.262712</td>\n      <td>80.403642</td>\n      <td>80.662338</td>\n    </tr>\n    <tr>\n      <th>Griffin High School</th>\n      <td>83.369193</td>\n      <td>83.706897</td>\n      <td>84.288089</td>\n      <td>84.013699</td>\n    </tr>\n    <tr>\n      <th>Hernandez High School</th>\n      <td>80.866860</td>\n      <td>80.660147</td>\n      <td>81.396140</td>\n      <td>80.857143</td>\n    </tr>\n    <tr>\n      <th>Holden High School</th>\n      <td>83.677165</td>\n      <td>83.324561</td>\n      <td>83.815534</td>\n      <td>84.698795</td>\n    </tr>\n    <tr>\n      <th>Huang High School</th>\n      <td>81.290284</td>\n      <td>81.512386</td>\n      <td>81.417476</td>\n      <td>80.305983</td>\n    </tr>\n    <tr>\n      <th>Johnson High School</th>\n      <td>81.260714</td>\n      <td>80.773431</td>\n      <td>80.616027</td>\n      <td>81.227564</td>\n    </tr>\n    <tr>\n      <th>Pena High School</th>\n      <td>83.807273</td>\n      <td>83.612000</td>\n      <td>84.335938</td>\n      <td>84.591160</td>\n    </tr>\n    <tr>\n      <th>Rodriguez High School</th>\n      <td>80.993127</td>\n      <td>80.629808</td>\n      <td>80.864811</td>\n      <td>80.376426</td>\n    </tr>\n    <tr>\n      <th>Shelton High School</th>\n      <td>84.122642</td>\n      <td>83.441964</td>\n      <td>84.373786</td>\n      <td>82.781671</td>\n    </tr>\n    <tr>\n      <th>Thomas High School</th>\n      <td>83.728850</td>\n      <td>84.254157</td>\n      <td>83.585542</td>\n      <td>83.831361</td>\n    </tr>\n    <tr>\n      <th>Wilson High School</th>\n      <td>83.939778</td>\n      <td>84.021452</td>\n      <td>83.764608</td>\n      <td>84.317673</td>\n    </tr>\n    <tr>\n      <th>Wright High School</th>\n      <td>83.833333</td>\n      <td>83.812757</td>\n      <td>84.156322</td>\n      <td>84.073171</td>\n    </tr>\n  </tbody>\n</table>\n</div>"
     },
     "metadata": {},
     "execution_count": 37
    }
   ],
   "source": [
    "#creates grade level average reading scores for each school\n",
    "ninth_reading = student_df.loc[student_df['grade'] == '9th'].groupby('school_name')[\"reading_score\"].mean()\n",
    "tenth_reading = student_df.loc[student_df['grade'] == '10th'].groupby('school_name')[\"reading_score\"].mean()\n",
    "eleventh_reading = student_df.loc[student_df['grade'] == '11th'].groupby('school_name')[\"reading_score\"].mean()\n",
    "twelfth_reading = student_df.loc[student_df['grade'] == '12th'].groupby('school_name')[\"reading_score\"].mean()\n",
    "\n",
    "#merges the reading score averages by school and grade together\n",
    "reading_scores = pd.DataFrame({\n",
    "        \"9th\": ninth_reading,\n",
    "        \"10th\": tenth_reading,\n",
    "        \"11th\": eleventh_reading,\n",
    "        \"12th\": twelfth_reading})\n",
    "reading_scores.index.name = \"School\"\n",
    "\n",
    "reading_scores"
   ]
  },
  {
   "cell_type": "markdown",
   "metadata": {},
   "source": [
    "## Scores by School Spending"
   ]
  },
  {
   "cell_type": "code",
   "execution_count": 38,
   "metadata": {},
   "outputs": [
    {
     "output_type": "execute_result",
     "data": {
      "text/plain": "                    Average Math Score  Average Reading Score  % Passing Math  \\\nPer Student Budget                                                              \n< $599                       83.363065              83.964039       93.702889   \n$599 - 616                   83.529196              83.838414       94.124128   \n$616 - 633                   78.484327              81.667908       72.765363   \n> $633                       77.418997              81.147112       68.335096   \n\n                    % Passing Reading  % Passing Overall  \nPer Student Budget                                        \n< $599                      96.686558          90.640704  \n$599 - 616                  95.886889          90.121190  \n$616 - 633                  85.397269          62.833644  \n> $633                      81.823567          56.073620  ",
      "text/html": "<div>\n<style scoped>\n    .dataframe tbody tr th:only-of-type {\n        vertical-align: middle;\n    }\n\n    .dataframe tbody tr th {\n        vertical-align: top;\n    }\n\n    .dataframe thead th {\n        text-align: right;\n    }\n</style>\n<table border=\"1\" class=\"dataframe\">\n  <thead>\n    <tr style=\"text-align: right;\">\n      <th></th>\n      <th>Average Math Score</th>\n      <th>Average Reading Score</th>\n      <th>% Passing Math</th>\n      <th>% Passing Reading</th>\n      <th>% Passing Overall</th>\n    </tr>\n    <tr>\n      <th>Per Student Budget</th>\n      <th></th>\n      <th></th>\n      <th></th>\n      <th></th>\n      <th></th>\n    </tr>\n  </thead>\n  <tbody>\n    <tr>\n      <th>&lt; $599</th>\n      <td>83.363065</td>\n      <td>83.964039</td>\n      <td>93.702889</td>\n      <td>96.686558</td>\n      <td>90.640704</td>\n    </tr>\n    <tr>\n      <th>$599 - 616</th>\n      <td>83.529196</td>\n      <td>83.838414</td>\n      <td>94.124128</td>\n      <td>95.886889</td>\n      <td>90.121190</td>\n    </tr>\n    <tr>\n      <th>$616 - 633</th>\n      <td>78.484327</td>\n      <td>81.667908</td>\n      <td>72.765363</td>\n      <td>85.397269</td>\n      <td>62.833644</td>\n    </tr>\n    <tr>\n      <th>&gt; $633</th>\n      <td>77.418997</td>\n      <td>81.147112</td>\n      <td>68.335096</td>\n      <td>81.823567</td>\n      <td>56.073620</td>\n    </tr>\n  </tbody>\n</table>\n</div>"
     },
     "metadata": {},
     "execution_count": 38
    }
   ],
   "source": [
    "#Create spending bins\n",
    "bins = [0, 598.999, 615.999, 632.999, 999999]\n",
    "group_name = ['< $599', \"$599 - 616\", \"$616 - 633\", \"> $633\"]\n",
    "merged_df['spending_bins'] = pd.cut(merged_df['budget']/merged_df['size'], bins, labels = group_name)\n",
    "\n",
    "#Group by spending\n",
    "by_spending = merged_df.groupby('spending_bins')\n",
    "\n",
    "#Calculations\n",
    "avg_math = by_spending['math_score'].mean()\n",
    "avg_read = by_spending['reading_score'].mean()\n",
    "pass_math = merged_df[merged_df['math_score'] >= 70].groupby('spending_bins')['Student ID'].count()/by_spending['Student ID'].count()*100\n",
    "pass_read = merged_df[merged_df['reading_score'] >= 70].groupby('spending_bins')['Student ID'].count()/by_spending['Student ID'].count()*100\n",
    "overall = merged_df[(merged_df['reading_score'] >= 70) & (merged_df['math_score'] >= 70)].groupby('spending_bins')['Student ID'].count()/by_spending['Student ID'].count()*100\n",
    "\n",
    "            \n",
    "#Build the DataFrames           \n",
    "scores_by_spend = pd.DataFrame({\n",
    "    \"Average Math Score\": avg_math,\n",
    "    \"Average Reading Score\": avg_read,\n",
    "    '% Passing Math': pass_math,\n",
    "    '% Passing Reading': pass_read,\n",
    "    '% Passing Overall': overall})\n",
    "            \n",
    "scores_by_spend.index.name = \"Per Student Budget\"\n",
    "scores_by_spend = scores_by_spend.reindex(group_name)\n",
    "\n",
    "scores_by_spend"
   ]
  },
  {
   "cell_type": "markdown",
   "metadata": {},
   "source": [
    "## Scores by School Size"
   ]
  },
  {
   "cell_type": "code",
   "execution_count": 39,
   "metadata": {
    "scrolled": true
   },
   "outputs": [
    {
     "output_type": "execute_result",
     "data": {
      "text/plain": "                    Average Math Score  Average Reading Score  % Passing Math  \\\nTotal Students                                                                  \nSmall (<1000)                83.828654              83.828654       93.952484   \nMedium (1000-2000)           83.372682              83.372682       93.616522   \nLarge (>2000)                77.477597              77.477597       68.652380   \n\n                    % Passing Reading  % Passing Overall  \nTotal Students                                            \nSmall (<1000)               96.040317          90.136789  \nMedium (1000-2000)          96.773058          90.624267  \nLarge (>2000)               82.125158          56.574046  ",
      "text/html": "<div>\n<style scoped>\n    .dataframe tbody tr th:only-of-type {\n        vertical-align: middle;\n    }\n\n    .dataframe tbody tr th {\n        vertical-align: top;\n    }\n\n    .dataframe thead th {\n        text-align: right;\n    }\n</style>\n<table border=\"1\" class=\"dataframe\">\n  <thead>\n    <tr style=\"text-align: right;\">\n      <th></th>\n      <th>Average Math Score</th>\n      <th>Average Reading Score</th>\n      <th>% Passing Math</th>\n      <th>% Passing Reading</th>\n      <th>% Passing Overall</th>\n    </tr>\n    <tr>\n      <th>Total Students</th>\n      <th></th>\n      <th></th>\n      <th></th>\n      <th></th>\n      <th></th>\n    </tr>\n  </thead>\n  <tbody>\n    <tr>\n      <th>Small (&lt;1000)</th>\n      <td>83.828654</td>\n      <td>83.828654</td>\n      <td>93.952484</td>\n      <td>96.040317</td>\n      <td>90.136789</td>\n    </tr>\n    <tr>\n      <th>Medium (1000-2000)</th>\n      <td>83.372682</td>\n      <td>83.372682</td>\n      <td>93.616522</td>\n      <td>96.773058</td>\n      <td>90.624267</td>\n    </tr>\n    <tr>\n      <th>Large (&gt;2000)</th>\n      <td>77.477597</td>\n      <td>77.477597</td>\n      <td>68.652380</td>\n      <td>82.125158</td>\n      <td>56.574046</td>\n    </tr>\n  </tbody>\n</table>\n</div>"
     },
     "metadata": {},
     "execution_count": 39
    }
   ],
   "source": [
    "# create size bins\n",
    "bins = [0, 999, 1999, 99999999999]\n",
    "group_name = [\"Small (<1000)\", \"Medium (1000-2000)\" , \"Large (>2000)\"]\n",
    "merged_df['size_bins'] = pd.cut(merged_df['size'], bins, labels = group_name)\n",
    "\n",
    "#group by spending\n",
    "by_size = merged_df.groupby('size_bins')\n",
    "\n",
    "#calculations \n",
    "avg_math = by_size['math_score'].mean()\n",
    "avg_read = by_size['math_score'].mean()\n",
    "pass_math = merged_df[merged_df['math_score'] >= 70].groupby('size_bins')['Student ID'].count()/by_size['Student ID'].count()*100\n",
    "pass_read = merged_df[merged_df['reading_score'] >= 70].groupby('size_bins')['Student ID'].count()/by_size['Student ID'].count()*100\n",
    "overall = merged_df[(merged_df['reading_score'] >= 70) & (merged_df['math_score'] >= 70)].groupby('size_bins')['Student ID'].count()/by_size['Student ID'].count()*100\n",
    "\n",
    "            \n",
    "# df build            \n",
    "scores_by_size = pd.DataFrame({\n",
    "    \"Average Math Score\": avg_math,\n",
    "    \"Average Reading Score\": avg_read,\n",
    "    '% Passing Math': pass_math,\n",
    "    '% Passing Reading': pass_read,\n",
    "    '% Passing Overall': overall})\n",
    "\n",
    "scores_by_size.index.name = \"Total Students\"\n",
    "\n",
    "scores_by_size"
   ]
  },
  {
   "cell_type": "markdown",
   "metadata": {},
   "source": [
    "## Scores by School Type"
   ]
  },
  {
   "cell_type": "code",
   "execution_count": 40,
   "metadata": {},
   "outputs": [
    {
     "output_type": "execute_result",
     "data": {
      "text/plain": "                Average Math Score  Average Reading Score  % Passing Math  \\\nType of School                                                              \nCharter                  83.406183              83.406183       93.701821   \nDistrict                 76.987026              76.987026       66.518387   \n\n                % Passing Reading  Overall Passing Rate  \nType of School                                           \nCharter                 96.645891             90.560932  \nDistrict                80.905249             53.695878  ",
      "text/html": "<div>\n<style scoped>\n    .dataframe tbody tr th:only-of-type {\n        vertical-align: middle;\n    }\n\n    .dataframe tbody tr th {\n        vertical-align: top;\n    }\n\n    .dataframe thead th {\n        text-align: right;\n    }\n</style>\n<table border=\"1\" class=\"dataframe\">\n  <thead>\n    <tr style=\"text-align: right;\">\n      <th></th>\n      <th>Average Math Score</th>\n      <th>Average Reading Score</th>\n      <th>% Passing Math</th>\n      <th>% Passing Reading</th>\n      <th>Overall Passing Rate</th>\n    </tr>\n    <tr>\n      <th>Type of School</th>\n      <th></th>\n      <th></th>\n      <th></th>\n      <th></th>\n      <th></th>\n    </tr>\n  </thead>\n  <tbody>\n    <tr>\n      <th>Charter</th>\n      <td>83.406183</td>\n      <td>83.406183</td>\n      <td>93.701821</td>\n      <td>96.645891</td>\n      <td>90.560932</td>\n    </tr>\n    <tr>\n      <th>District</th>\n      <td>76.987026</td>\n      <td>76.987026</td>\n      <td>66.518387</td>\n      <td>80.905249</td>\n      <td>53.695878</td>\n    </tr>\n  </tbody>\n</table>\n</div>"
     },
     "metadata": {},
     "execution_count": 40
    }
   ],
   "source": [
    "# group by type of school\n",
    "by_type = merged_df.groupby(\"type\")\n",
    "\n",
    "#calculations \n",
    "avg_math = by_type['math_score'].mean()\n",
    "avg_read = by_type['math_score'].mean()\n",
    "pass_math = merged_df[merged_df['math_score'] >= 70].groupby('type')['Student ID'].count()/by_type['Student ID'].count()*100\n",
    "pass_read = merged_df[merged_df['reading_score'] >= 70].groupby('type')['Student ID'].count()/by_type['Student ID'].count()*100\n",
    "overall = merged_df[(merged_df['reading_score'] >= 70) & (merged_df['math_score'] >= 70)].groupby('type')['Student ID'].count()/by_type['Student ID'].count()*100\n",
    "\n",
    "# df build            \n",
    "scores_by_type = pd.DataFrame({\n",
    "    \"Average Math Score\": avg_math,\n",
    "    \"Average Reading Score\": avg_read,\n",
    "    '% Passing Math': pass_math,\n",
    "    '% Passing Reading': pass_read,\n",
    "    \"Overall Passing Rate\": overall})\n",
    "    \n",
    "#reorder columns\n",
    "scores_by_type = scores_by_type[[\n",
    "    \"Average Math Score\",\n",
    "    \"Average Reading Score\",\n",
    "    '% Passing Math',\n",
    "    '% Passing Reading',\n",
    "    \"Overall Passing Rate\"\n",
    "]]\n",
    "scores_by_type.index.name = \"Type of School\"\n",
    "\n",
    "scores_by_type"
   ]
  },
  {
   "cell_type": "code",
   "execution_count": null,
   "metadata": {},
   "outputs": [],
   "source": []
  }
 ],
 "metadata": {
  "anaconda-cloud": {},
  "kernel_info": {
   "name": "python3"
  },
  "kernelspec": {
   "display_name": "Python 3.6.10 64-bit ('PythonData': conda)",
   "language": "python",
   "name": "python_defaultSpec_1598119909165"
  },
  "language_info": {
   "codemirror_mode": {
    "name": "ipython",
    "version": 3
   },
   "file_extension": ".py",
   "mimetype": "text/x-python",
   "name": "python",
   "nbconvert_exporter": "python",
   "pygments_lexer": "ipython3",
   "version": "3.6.10-final"
  },
  "latex_envs": {
   "LaTeX_envs_menu_present": true,
   "autoclose": false,
   "autocomplete": true,
   "bibliofile": "biblio.bib",
   "cite_by": "apalike",
   "current_citInitial": 1,
   "eqLabelWithNumbers": true,
   "eqNumInitial": 1,
   "hotkeys": {
    "equation": "Ctrl-E",
    "itemize": "Ctrl-I"
   },
   "labels_anchors": false,
   "latex_user_defs": false,
   "report_style_numbering": false,
   "user_envs_cfg": false
  },
  "nteract": {
   "version": "0.8.4"
  }
 },
 "nbformat": 4,
 "nbformat_minor": 1
}